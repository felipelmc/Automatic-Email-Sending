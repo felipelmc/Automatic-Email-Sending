{
 "cells": [
  {
   "cell_type": "code",
   "execution_count": null,
   "metadata": {},
   "outputs": [],
   "source": [
    "from email.mime.multipart import MIMEMultipart\n",
    "from email.mime.text import MIMEText\n",
    "from email.mime.image import MIMEImage\n",
    "import smtplib"
   ]
  },
  {
   "cell_type": "code",
   "execution_count": null,
   "metadata": {},
   "outputs": [],
   "source": [
    "login = input(\"Enter your email: \")\n",
    "password = input(\"Enter your app password: \")"
   ]
  },
  {
   "cell_type": "code",
   "execution_count": null,
   "metadata": {},
   "outputs": [],
   "source": [
    "message = \"\"\"\n",
    "<html>\n",
    "    <body>\n",
    "        <p>Hi!<br>\n",
    "            How are you?<br>\n",
    "            This is an email sent using Python!<br>\n",
    "            Bellow is an image of a little duck.<br>\n",
    "            Best regards,<br>\n",
    "            <b>Felipe Lamarca</b>\n",
    "        </p>\n",
    "        <img src=\"cid:image1\">\n",
    "    </body>\n",
    "</html>\n",
    "\"\"\""
   ]
  },
  {
   "cell_type": "code",
   "execution_count": null,
   "metadata": {},
   "outputs": [],
   "source": [
    "msg = MIMEMultipart()\n",
    "msg[\"From\"] = login\n",
    "msg[\"To\"] = input(\"Enter the email of the recipient: \")\n",
    "msg[\"Subject\"] = \"Test email sent using Python\"\n",
    "\n",
    "body = MIMEText(message, 'html')\n",
    "msg.attach(body)\n",
    "\n",
    "try:\n",
    "    with smtplib.SMTP(\"smtp.gmail.com\", 587) as smtp:\n",
    "        smtp.ehlo()\n",
    "        smtp.starttls()\n",
    "        smtp.ehlo()\n",
    "        smtp.login(login, password)\n",
    "        \n",
    "        # Attach image\n",
    "        with open(\"img/duckling-ge2bb0292c_1280.jpg\", \"rb\") as f:\n",
    "            img = MIMEImage(f.read())\n",
    "            img.add_header(\"Content-ID\", \"<image1>\")\n",
    "            msg.attach(img)\n",
    "        \n",
    "        smtp.send_message(msg)\n",
    "        print(\"Email sent successfully!\")\n",
    "\n",
    "except Exception as e:\n",
    "    print(\"Error: unable to send email\")\n",
    "    print(e)"
   ]
  }
 ],
 "metadata": {
  "kernelspec": {
   "display_name": "Python 3",
   "language": "python",
   "name": "python3"
  },
  "language_info": {
   "codemirror_mode": {
    "name": "ipython",
    "version": 3
   },
   "file_extension": ".py",
   "mimetype": "text/x-python",
   "name": "python",
   "nbconvert_exporter": "python",
   "pygments_lexer": "ipython3",
   "version": "3.10.6"
  },
  "orig_nbformat": 4
 },
 "nbformat": 4,
 "nbformat_minor": 2
}
